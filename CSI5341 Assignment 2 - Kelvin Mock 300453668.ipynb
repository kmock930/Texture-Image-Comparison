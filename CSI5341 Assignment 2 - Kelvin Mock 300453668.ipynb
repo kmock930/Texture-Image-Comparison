{
 "cells": [
  {
   "cell_type": "markdown",
   "id": "72d14610",
   "metadata": {},
   "source": [
    "# Installing Packages"
   ]
  },
  {
   "cell_type": "code",
   "execution_count": 1,
   "id": "0edbcf9a",
   "metadata": {},
   "outputs": [
    {
     "name": "stdout",
     "output_type": "stream",
     "text": [
      "Requirement already satisfied: numpy in c:\\users\\kelvi\\appdata\\local\\programs\\python\\python310\\lib\\site-packages (1.23.3)\n",
      "Note: you may need to restart the kernel to use updated packages.\n"
     ]
    },
    {
     "name": "stderr",
     "output_type": "stream",
     "text": [
      "\n",
      "[notice] A new release of pip available: 22.2.2 -> 24.2\n",
      "[notice] To update, run: python.exe -m pip install --upgrade pip\n"
     ]
    },
    {
     "name": "stdout",
     "output_type": "stream",
     "text": [
      "Requirement already satisfied: tensorflow in c:\\users\\kelvi\\appdata\\local\\programs\\python\\python310\\lib\\site-packages (2.12.0)\n",
      "Requirement already satisfied: tensorflow-intel==2.12.0 in c:\\users\\kelvi\\appdata\\local\\programs\\python\\python310\\lib\\site-packages (from tensorflow) (2.12.0)\n",
      "Requirement already satisfied: numpy<1.24,>=1.22 in c:\\users\\kelvi\\appdata\\local\\programs\\python\\python310\\lib\\site-packages (from tensorflow-intel==2.12.0->tensorflow) (1.23.3)\n",
      "Requirement already satisfied: libclang>=13.0.0 in c:\\users\\kelvi\\appdata\\local\\programs\\python\\python310\\lib\\site-packages (from tensorflow-intel==2.12.0->tensorflow) (16.0.0)\n",
      "Requirement already satisfied: setuptools in c:\\users\\kelvi\\appdata\\local\\programs\\python\\python310\\lib\\site-packages (from tensorflow-intel==2.12.0->tensorflow) (63.2.0)\n",
      "Requirement already satisfied: tensorflow-estimator<2.13,>=2.12.0 in c:\\users\\kelvi\\appdata\\local\\programs\\python\\python310\\lib\\site-packages (from tensorflow-intel==2.12.0->tensorflow) (2.12.0)\n",
      "Requirement already satisfied: astunparse>=1.6.0 in c:\\users\\kelvi\\appdata\\local\\programs\\python\\python310\\lib\\site-packages (from tensorflow-intel==2.12.0->tensorflow) (1.6.3)\n",
      "Requirement already satisfied: opt-einsum>=2.3.2 in c:\\users\\kelvi\\appdata\\local\\programs\\python\\python310\\lib\\site-packages (from tensorflow-intel==2.12.0->tensorflow) (3.3.0)\n",
      "Requirement already satisfied: jax>=0.3.15 in c:\\users\\kelvi\\appdata\\local\\programs\\python\\python310\\lib\\site-packages (from tensorflow-intel==2.12.0->tensorflow) (0.4.8)\n",
      "Requirement already satisfied: termcolor>=1.1.0 in c:\\users\\kelvi\\appdata\\local\\programs\\python\\python310\\lib\\site-packages (from tensorflow-intel==2.12.0->tensorflow) (2.3.0)\n",
      "Requirement already satisfied: absl-py>=1.0.0 in c:\\users\\kelvi\\appdata\\local\\programs\\python\\python310\\lib\\site-packages (from tensorflow-intel==2.12.0->tensorflow) (1.4.0)\n",
      "Requirement already satisfied: protobuf!=4.21.0,!=4.21.1,!=4.21.2,!=4.21.3,!=4.21.4,!=4.21.5,<5.0.0dev,>=3.20.3 in c:\\users\\kelvi\\appdata\\local\\programs\\python\\python310\\lib\\site-packages (from tensorflow-intel==2.12.0->tensorflow) (4.22.3)\n",
      "Requirement already satisfied: tensorboard<2.13,>=2.12 in c:\\users\\kelvi\\appdata\\local\\programs\\python\\python310\\lib\\site-packages (from tensorflow-intel==2.12.0->tensorflow) (2.12.2)\n",
      "Requirement already satisfied: wrapt<1.15,>=1.11.0 in c:\\users\\kelvi\\appdata\\local\\programs\\python\\python310\\lib\\site-packages (from tensorflow-intel==2.12.0->tensorflow) (1.14.1)\n",
      "Requirement already satisfied: keras<2.13,>=2.12.0 in c:\\users\\kelvi\\appdata\\local\\programs\\python\\python310\\lib\\site-packages (from tensorflow-intel==2.12.0->tensorflow) (2.12.0)\n",
      "Requirement already satisfied: packaging in c:\\users\\kelvi\\appdata\\local\\programs\\python\\python310\\lib\\site-packages (from tensorflow-intel==2.12.0->tensorflow) (21.3)\n",
      "Requirement already satisfied: tensorflow-io-gcs-filesystem>=0.23.1 in c:\\users\\kelvi\\appdata\\local\\programs\\python\\python310\\lib\\site-packages (from tensorflow-intel==2.12.0->tensorflow) (0.31.0)\n",
      "Requirement already satisfied: google-pasta>=0.1.1 in c:\\users\\kelvi\\appdata\\local\\programs\\python\\python310\\lib\\site-packages (from tensorflow-intel==2.12.0->tensorflow) (0.2.0)\n",
      "Requirement already satisfied: typing-extensions>=3.6.6 in c:\\users\\kelvi\\appdata\\roaming\\python\\python310\\site-packages (from tensorflow-intel==2.12.0->tensorflow) (4.12.2)\n",
      "Requirement already satisfied: grpcio<2.0,>=1.24.3 in c:\\users\\kelvi\\appdata\\local\\programs\\python\\python310\\lib\\site-packages (from tensorflow-intel==2.12.0->tensorflow) (1.54.0)\n",
      "Requirement already satisfied: flatbuffers>=2.0 in c:\\users\\kelvi\\appdata\\local\\programs\\python\\python310\\lib\\site-packages (from tensorflow-intel==2.12.0->tensorflow) (23.3.3)\n",
      "Requirement already satisfied: gast<=0.4.0,>=0.2.1 in c:\\users\\kelvi\\appdata\\local\\programs\\python\\python310\\lib\\site-packages (from tensorflow-intel==2.12.0->tensorflow) (0.4.0)\n",
      "Requirement already satisfied: h5py>=2.9.0 in c:\\users\\kelvi\\appdata\\local\\programs\\python\\python310\\lib\\site-packages (from tensorflow-intel==2.12.0->tensorflow) (3.8.0)\n",
      "Requirement already satisfied: six>=1.12.0 in c:\\users\\kelvi\\appdata\\local\\programs\\python\\python310\\lib\\site-packages (from tensorflow-intel==2.12.0->tensorflow) (1.16.0)\n",
      "Requirement already satisfied: wheel<1.0,>=0.23.0 in c:\\users\\kelvi\\appdata\\local\\programs\\python\\python310\\lib\\site-packages (from astunparse>=1.6.0->tensorflow-intel==2.12.0->tensorflow) (0.37.1)\n",
      "Requirement already satisfied: ml-dtypes>=0.0.3 in c:\\users\\kelvi\\appdata\\local\\programs\\python\\python310\\lib\\site-packages (from jax>=0.3.15->tensorflow-intel==2.12.0->tensorflow) (0.1.0)\n",
      "Requirement already satisfied: scipy>=1.7 in c:\\users\\kelvi\\appdata\\local\\programs\\python\\python310\\lib\\site-packages (from jax>=0.3.15->tensorflow-intel==2.12.0->tensorflow) (1.9.1)\n",
      "Requirement already satisfied: google-auth-oauthlib<1.1,>=0.5 in c:\\users\\kelvi\\appdata\\local\\programs\\python\\python310\\lib\\site-packages (from tensorboard<2.13,>=2.12->tensorflow-intel==2.12.0->tensorflow) (1.0.0)\n",
      "Requirement already satisfied: google-auth<3,>=1.6.3 in c:\\users\\kelvi\\appdata\\local\\programs\\python\\python310\\lib\\site-packages (from tensorboard<2.13,>=2.12->tensorflow-intel==2.12.0->tensorflow) (2.17.3)\n",
      "Requirement already satisfied: tensorboard-plugin-wit>=1.6.0 in c:\\users\\kelvi\\appdata\\local\\programs\\python\\python310\\lib\\site-packages (from tensorboard<2.13,>=2.12->tensorflow-intel==2.12.0->tensorflow) (1.8.1)\n",
      "Requirement already satisfied: tensorboard-data-server<0.8.0,>=0.7.0 in c:\\users\\kelvi\\appdata\\local\\programs\\python\\python310\\lib\\site-packages (from tensorboard<2.13,>=2.12->tensorflow-intel==2.12.0->tensorflow) (0.7.0)\n",
      "Requirement already satisfied: markdown>=2.6.8 in c:\\users\\kelvi\\appdata\\local\\programs\\python\\python310\\lib\\site-packages (from tensorboard<2.13,>=2.12->tensorflow-intel==2.12.0->tensorflow) (3.4.3)\n",
      "Requirement already satisfied: requests<3,>=2.21.0 in c:\\users\\kelvi\\appdata\\local\\programs\\python\\python310\\lib\\site-packages (from tensorboard<2.13,>=2.12->tensorflow-intel==2.12.0->tensorflow) (2.29.0)\n",
      "Requirement already satisfied: werkzeug>=1.0.1 in c:\\users\\kelvi\\appdata\\local\\programs\\python\\python310\\lib\\site-packages (from tensorboard<2.13,>=2.12->tensorflow-intel==2.12.0->tensorflow) (2.3.2)\n",
      "Requirement already satisfied: pyparsing!=3.0.5,>=2.0.2 in c:\\users\\kelvi\\appdata\\local\\programs\\python\\python310\\lib\\site-packages (from packaging->tensorflow-intel==2.12.0->tensorflow) (3.0.9)\n",
      "Requirement already satisfied: cachetools<6.0,>=2.0.0 in c:\\users\\kelvi\\appdata\\local\\programs\\python\\python310\\lib\\site-packages (from google-auth<3,>=1.6.3->tensorboard<2.13,>=2.12->tensorflow-intel==2.12.0->tensorflow) (5.3.0)\n",
      "Requirement already satisfied: pyasn1-modules>=0.2.1 in c:\\users\\kelvi\\appdata\\local\\programs\\python\\python310\\lib\\site-packages (from google-auth<3,>=1.6.3->tensorboard<2.13,>=2.12->tensorflow-intel==2.12.0->tensorflow) (0.3.0)\n",
      "Requirement already satisfied: rsa<5,>=3.1.4 in c:\\users\\kelvi\\appdata\\local\\programs\\python\\python310\\lib\\site-packages (from google-auth<3,>=1.6.3->tensorboard<2.13,>=2.12->tensorflow-intel==2.12.0->tensorflow) (4.9)\n",
      "Requirement already satisfied: requests-oauthlib>=0.7.0 in c:\\users\\kelvi\\appdata\\local\\programs\\python\\python310\\lib\\site-packages (from google-auth-oauthlib<1.1,>=0.5->tensorboard<2.13,>=2.12->tensorflow-intel==2.12.0->tensorflow) (1.3.1)\n",
      "Requirement already satisfied: urllib3<1.27,>=1.21.1 in c:\\users\\kelvi\\appdata\\local\\programs\\python\\python310\\lib\\site-packages (from requests<3,>=2.21.0->tensorboard<2.13,>=2.12->tensorflow-intel==2.12.0->tensorflow) (1.26.15)\n",
      "Requirement already satisfied: idna<4,>=2.5 in c:\\users\\kelvi\\appdata\\local\\programs\\python\\python310\\lib\\site-packages (from requests<3,>=2.21.0->tensorboard<2.13,>=2.12->tensorflow-intel==2.12.0->tensorflow) (3.4)\n",
      "Requirement already satisfied: certifi>=2017.4.17 in c:\\users\\kelvi\\appdata\\local\\programs\\python\\python310\\lib\\site-packages (from requests<3,>=2.21.0->tensorboard<2.13,>=2.12->tensorflow-intel==2.12.0->tensorflow) (2022.12.7)\n",
      "Requirement already satisfied: charset-normalizer<4,>=2 in c:\\users\\kelvi\\appdata\\local\\programs\\python\\python310\\lib\\site-packages (from requests<3,>=2.21.0->tensorboard<2.13,>=2.12->tensorflow-intel==2.12.0->tensorflow) (3.1.0)\n",
      "Requirement already satisfied: MarkupSafe>=2.1.1 in c:\\users\\kelvi\\appdata\\local\\programs\\python\\python310\\lib\\site-packages (from werkzeug>=1.0.1->tensorboard<2.13,>=2.12->tensorflow-intel==2.12.0->tensorflow) (2.1.2)\n",
      "Requirement already satisfied: pyasn1<0.6.0,>=0.4.6 in c:\\users\\kelvi\\appdata\\local\\programs\\python\\python310\\lib\\site-packages (from pyasn1-modules>=0.2.1->google-auth<3,>=1.6.3->tensorboard<2.13,>=2.12->tensorflow-intel==2.12.0->tensorflow) (0.5.0)\n",
      "Requirement already satisfied: oauthlib>=3.0.0 in c:\\users\\kelvi\\appdata\\local\\programs\\python\\python310\\lib\\site-packages (from requests-oauthlib>=0.7.0->google-auth-oauthlib<1.1,>=0.5->tensorboard<2.13,>=2.12->tensorflow-intel==2.12.0->tensorflow) (3.2.2)\n",
      "Note: you may need to restart the kernel to use updated packages.\n"
     ]
    },
    {
     "name": "stderr",
     "output_type": "stream",
     "text": [
      "\n",
      "[notice] A new release of pip available: 22.2.2 -> 24.2\n",
      "[notice] To update, run: python.exe -m pip install --upgrade pip\n"
     ]
    },
    {
     "name": "stdout",
     "output_type": "stream",
     "text": [
      "Requirement already satisfied: matplotlib in c:\\users\\kelvi\\appdata\\local\\programs\\python\\python310\\lib\\site-packages (3.6.0)\n",
      "Requirement already satisfied: packaging>=20.0 in c:\\users\\kelvi\\appdata\\local\\programs\\python\\python310\\lib\\site-packages (from matplotlib) (21.3)\n",
      "Requirement already satisfied: pyparsing>=2.2.1 in c:\\users\\kelvi\\appdata\\local\\programs\\python\\python310\\lib\\site-packages (from matplotlib) (3.0.9)\n",
      "Requirement already satisfied: cycler>=0.10 in c:\\users\\kelvi\\appdata\\local\\programs\\python\\python310\\lib\\site-packages (from matplotlib) (0.11.0)\n",
      "Requirement already satisfied: fonttools>=4.22.0 in c:\\users\\kelvi\\appdata\\local\\programs\\python\\python310\\lib\\site-packages (from matplotlib) (4.37.4)\n",
      "Requirement already satisfied: numpy>=1.19 in c:\\users\\kelvi\\appdata\\local\\programs\\python\\python310\\lib\\site-packages (from matplotlib) (1.23.3)\n",
      "Requirement already satisfied: kiwisolver>=1.0.1 in c:\\users\\kelvi\\appdata\\local\\programs\\python\\python310\\lib\\site-packages (from matplotlib) (1.4.4)\n",
      "Requirement already satisfied: python-dateutil>=2.7 in c:\\users\\kelvi\\appdata\\local\\programs\\python\\python310\\lib\\site-packages (from matplotlib) (2.8.2)\n",
      "Requirement already satisfied: contourpy>=1.0.1 in c:\\users\\kelvi\\appdata\\local\\programs\\python\\python310\\lib\\site-packages (from matplotlib) (1.0.5)\n",
      "Requirement already satisfied: pillow>=6.2.0 in c:\\users\\kelvi\\appdata\\local\\programs\\python\\python310\\lib\\site-packages (from matplotlib) (9.2.0)\n",
      "Requirement already satisfied: six>=1.5 in c:\\users\\kelvi\\appdata\\local\\programs\\python\\python310\\lib\\site-packages (from python-dateutil>=2.7->matplotlib) (1.16.0)\n",
      "Note: you may need to restart the kernel to use updated packages.\n"
     ]
    },
    {
     "name": "stderr",
     "output_type": "stream",
     "text": [
      "\n",
      "[notice] A new release of pip available: 22.2.2 -> 24.2\n",
      "[notice] To update, run: python.exe -m pip install --upgrade pip\n"
     ]
    },
    {
     "name": "stdout",
     "output_type": "stream",
     "text": [
      "Requirement already satisfied: scikit-image in c:\\users\\kelvi\\appdata\\local\\programs\\python\\python310\\lib\\site-packages (0.24.0)\n",
      "Requirement already satisfied: numpy>=1.23 in c:\\users\\kelvi\\appdata\\local\\programs\\python\\python310\\lib\\site-packages (from scikit-image) (1.23.3)\n",
      "Requirement already satisfied: packaging>=21 in c:\\users\\kelvi\\appdata\\local\\programs\\python\\python310\\lib\\site-packages (from scikit-image) (21.3)\n",
      "Requirement already satisfied: pillow>=9.1 in c:\\users\\kelvi\\appdata\\local\\programs\\python\\python310\\lib\\site-packages (from scikit-image) (9.2.0)\n",
      "Requirement already satisfied: tifffile>=2022.8.12 in c:\\users\\kelvi\\appdata\\local\\programs\\python\\python310\\lib\\site-packages (from scikit-image) (2024.9.20)\n",
      "Requirement already satisfied: lazy-loader>=0.4 in c:\\users\\kelvi\\appdata\\local\\programs\\python\\python310\\lib\\site-packages (from scikit-image) (0.4)\n",
      "Requirement already satisfied: imageio>=2.33 in c:\\users\\kelvi\\appdata\\local\\programs\\python\\python310\\lib\\site-packages (from scikit-image) (2.36.0)\n",
      "Requirement already satisfied: scipy>=1.9 in c:\\users\\kelvi\\appdata\\local\\programs\\python\\python310\\lib\\site-packages (from scikit-image) (1.9.1)\n",
      "Requirement already satisfied: networkx>=2.8 in c:\\users\\kelvi\\appdata\\local\\programs\\python\\python310\\lib\\site-packages (from scikit-image) (3.4.1)\n",
      "Requirement already satisfied: pyparsing!=3.0.5,>=2.0.2 in c:\\users\\kelvi\\appdata\\local\\programs\\python\\python310\\lib\\site-packages (from packaging>=21->scikit-image) (3.0.9)\n",
      "Note: you may need to restart the kernel to use updated packages.\n"
     ]
    },
    {
     "name": "stderr",
     "output_type": "stream",
     "text": [
      "\n",
      "[notice] A new release of pip available: 22.2.2 -> 24.2\n",
      "[notice] To update, run: python.exe -m pip install --upgrade pip\n"
     ]
    }
   ],
   "source": [
    "%pip install numpy\n",
    "%pip install tensorflow\n",
    "%pip install matplotlib\n",
    "%pip install scikit-image       "
   ]
  },
  {
   "cell_type": "code",
   "execution_count": 2,
   "id": "4b2b0873",
   "metadata": {},
   "outputs": [],
   "source": [
    "# Common imports\n",
    "import numpy as np;\n",
    "import random;\n",
    "\n",
    "# import other code files\n",
    "from setup import load_images_paths, load_images;\n",
    "\n",
    "# to make this notebook's output stable across runs\n",
    "np.random.seed(42);\n",
    "\n",
    "# To plot pretty figures\n",
    "%matplotlib inline\n",
    "import matplotlib.pyplot as plt;\n",
    "plt.rcParams['axes.labelsize'] = 14;\n",
    "plt.rcParams['xtick.labelsize'] = 12;\n",
    "plt.rcParams['ytick.labelsize'] = 12;\n",
    "\n",
    "# import Global variables\n",
    "import constants;"
   ]
  },
  {
   "cell_type": "markdown",
   "id": "28fa3301",
   "metadata": {},
   "source": [
    "# Setup"
   ]
  },
  {
   "cell_type": "markdown",
   "id": "67d55fe1",
   "metadata": {},
   "source": [
    "## Load the Images"
   ]
  },
  {
   "cell_type": "markdown",
   "id": "adf79a31",
   "metadata": {},
   "source": [
    "### Load the Paths of the Images"
   ]
  },
  {
   "cell_type": "code",
   "execution_count": 3,
   "id": "7ac42a6c",
   "metadata": {},
   "outputs": [
    {
     "name": "stdout",
     "output_type": "stream",
     "text": [
      "In YOR dataset...\n",
      "Number of Samples in test set: 158\n",
      "Number of Labels in test set: 158\n",
      "Number of Samples in training set: 334\n",
      "Number of Labels in training set: 334\n",
      "\n",
      "In CAL dataset...\n",
      "Number of Samples in test set: 237\n",
      "Number of Labels in test set: 237\n",
      "Number of Samples in training set: 253\n",
      "Number of Labels in training set: 253\n"
     ]
    }
   ],
   "source": [
    "image_paths = load_images_paths();\n",
    "YOR_TEST_SAMPLES = image_paths[\"YOR_TEST_SAMPLES\"];\n",
    "YOR_TEST_LABELS = image_paths[\"YOR_TEST_LABELS\"];\n",
    "YOR_TRAIN_SAMPLES = image_paths[\"YOR_TRAIN_SAMPLES\"];\n",
    "YOR_TRAIN_LABELS = image_paths[\"YOR_TRAIN_LABELS\"];\n",
    "\n",
    "CAL_TEST_SAMPLES = image_paths[\"CAL_TEST_SAMPLES\"];\n",
    "CAL_TEST_LABELS = image_paths[\"CAL_TEST_LABELS\"];\n",
    "CAL_TRAIN_SAMPLES = image_paths[\"CAL_TRAIN_SAMPLES\"];\n",
    "CAL_TRAIN_LABELS = image_paths[\"CAL_TRAIN_LABELS\"];\n",
    "\n",
    "print(\"In YOR dataset...\")\n",
    "print(f\"Number of Samples in test set: {len(YOR_TEST_SAMPLES)}\");\n",
    "print(f\"Number of Labels in test set: {len(YOR_TEST_LABELS)}\");\n",
    "print(f\"Number of Samples in training set: {len(YOR_TRAIN_SAMPLES)}\");\n",
    "print(f\"Number of Labels in training set: {len(YOR_TRAIN_LABELS)}\");\n",
    "\n",
    "print();\n",
    "\n",
    "print(\"In CAL dataset...\")\n",
    "print(f\"Number of Samples in test set: {len(CAL_TEST_SAMPLES)}\");\n",
    "print(f\"Number of Labels in test set: {len(CAL_TEST_LABELS)}\");\n",
    "print(f\"Number of Samples in training set: {len(CAL_TRAIN_SAMPLES)}\");\n",
    "print(f\"Number of Labels in training set: {len(CAL_TRAIN_LABELS)}\");"
   ]
  },
  {
   "cell_type": "code",
   "execution_count": 4,
   "id": "cd2d53c5",
   "metadata": {},
   "outputs": [
    {
     "name": "stdout",
     "output_type": "stream",
     "text": [
      "Inspecting the path in each set...\n",
      ".\\stonefiles\\yor\\set0\\Yor_25-specimen-i005-s124.jpg\n",
      ".\\stonefiles\\yor\\set2\\Yor_157-specimen-i001-s125.jpg\n",
      ".\\stonefiles\\cal\\set0\\Cal_32-specimen-i002-s125.jpg\n",
      ".\\stonefiles\\cal\\set2\\Cal_91-specimen-i005-s125.jpg\n"
     ]
    }
   ],
   "source": [
    "print(\"Inspecting the path in each set...\");\n",
    "print(YOR_TEST_SAMPLES[random.randint(0, len(YOR_TEST_SAMPLES)-1)]);\n",
    "print(YOR_TRAIN_SAMPLES[random.randint(0, len(YOR_TRAIN_SAMPLES)-1)]);\n",
    "print(CAL_TEST_SAMPLES[random.randint(0, len(CAL_TEST_SAMPLES)-1)]);\n",
    "print(CAL_TRAIN_SAMPLES[random.randint(0, len(CAL_TRAIN_SAMPLES)-1)]);"
   ]
  },
  {
   "cell_type": "markdown",
   "id": "4ae61c7e",
   "metadata": {},
   "source": [
    "### Load the actual images (from the obtained paths) into numpy arrays"
   ]
  },
  {
   "cell_type": "code",
   "execution_count": 5,
   "id": "b5705384",
   "metadata": {},
   "outputs": [
    {
     "name": "stdout",
     "output_type": "stream",
     "text": [
      "Type of the test samples structure: <class 'numpy.ndarray'>\n",
      "Shape of the test samples array: (158, 64, 64)\n",
      "Dimensionality of the test samples array: 3\n"
     ]
    }
   ],
   "source": [
    "YOR_TEST_SAMPLES = load_images(YOR_TEST_SAMPLES);\n",
    "print(f\"Type of the test samples structure: {type(YOR_TEST_SAMPLES)}\");\n",
    "print(f\"Shape of the test samples array: {YOR_TEST_SAMPLES.shape}\");\n",
    "print(f\"Dimensionality of the test samples array: {YOR_TEST_SAMPLES.ndim}\");"
   ]
  },
  {
   "cell_type": "code",
   "execution_count": 6,
   "id": "b85d4728",
   "metadata": {},
   "outputs": [
    {
     "name": "stdout",
     "output_type": "stream",
     "text": [
      "Type of the training samples structure: <class 'numpy.ndarray'>\n",
      "Shape of the training samples array: (334, 64, 64)\n",
      "Dimensionality of the training samples array: 3\n"
     ]
    }
   ],
   "source": [
    "YOR_TRAIN_SAMPLES = load_images(YOR_TRAIN_SAMPLES);\n",
    "print(f\"Type of the training samples structure: {type(YOR_TRAIN_SAMPLES)}\");\n",
    "print(f\"Shape of the training samples array: {YOR_TRAIN_SAMPLES.shape}\");\n",
    "print(f\"Dimensionality of the training samples array: {YOR_TRAIN_SAMPLES.ndim}\");"
   ]
  },
  {
   "cell_type": "code",
   "execution_count": 7,
   "id": "1390170c",
   "metadata": {},
   "outputs": [
    {
     "name": "stdout",
     "output_type": "stream",
     "text": [
      "Type of the test samples structure: <class 'numpy.ndarray'>\n",
      "Shape of the test samples array: (237, 64, 64)\n",
      "Dimensionality of the test samples array: 3\n"
     ]
    }
   ],
   "source": [
    "CAL_TEST_SAMPLES = load_images(CAL_TEST_SAMPLES);\n",
    "print(f\"Type of the test samples structure: {type(CAL_TEST_SAMPLES)}\");\n",
    "print(f\"Shape of the test samples array: {CAL_TEST_SAMPLES.shape}\");\n",
    "print(f\"Dimensionality of the test samples array: {CAL_TEST_SAMPLES.ndim}\");"
   ]
  },
  {
   "cell_type": "code",
   "execution_count": 8,
   "id": "5e4bcf62",
   "metadata": {},
   "outputs": [
    {
     "name": "stdout",
     "output_type": "stream",
     "text": [
      "Type of the training samples structure: <class 'numpy.ndarray'>\n",
      "Shape of the training samples array: (253, 64, 64)\n",
      "Dimensionality of the training samples array: 3\n"
     ]
    }
   ],
   "source": [
    "CAL_TRAIN_SAMPLES = load_images(CAL_TRAIN_SAMPLES);\n",
    "print(f\"Type of the training samples structure: {type(CAL_TRAIN_SAMPLES)}\");\n",
    "print(f\"Shape of the training samples array: {CAL_TRAIN_SAMPLES.shape}\");\n",
    "print(f\"Dimensionality of the training samples array: {CAL_TRAIN_SAMPLES.ndim}\");"
   ]
  },
  {
   "cell_type": "markdown",
   "id": "4042a5d8",
   "metadata": {},
   "source": [
    "#### Put those into the appropriate training set and testing set for modelling"
   ]
  },
  {
   "cell_type": "code",
   "execution_count": 9,
   "id": "01e80199",
   "metadata": {},
   "outputs": [],
   "source": [
    "X_train = np.concatenate((YOR_TRAIN_SAMPLES, CAL_TRAIN_SAMPLES));\n",
    "y_train = np.concatenate((YOR_TRAIN_LABELS, CAL_TRAIN_LABELS));\n",
    "X_test = np.concatenate((YOR_TEST_SAMPLES, CAL_TEST_SAMPLES));\n",
    "y_test = np.concatenate((YOR_TEST_LABELS, CAL_TEST_LABELS));"
   ]
  },
  {
   "cell_type": "code",
   "execution_count": 10,
   "id": "84317c92",
   "metadata": {},
   "outputs": [
    {
     "name": "stdout",
     "output_type": "stream",
     "text": [
      "Shape of Training Set SamplesArray: (587, 64, 64)\n",
      "Dimentionality of Training Set Samples Array: 3\n",
      "\n",
      "Shape of Training Set Labels Array: (587,)\n",
      "Dimentionality of Training Set Labels Array: 1\n",
      "\n",
      "Shape of Test Set SamplesArray: (395, 64, 64)\n",
      "Dimentionality of Test Set Samples Array: 3\n",
      "\n",
      "Shape of Test Set Labels Array: (395,)\n",
      "Dimentionality of Test Set Labels Array: 1\n"
     ]
    }
   ],
   "source": [
    "print(f\"Shape of Training Set SamplesArray: {X_train.shape}\");\n",
    "print(f\"Dimentionality of Training Set Samples Array: {X_train.ndim}\");\n",
    "print();\n",
    "print(f\"Shape of Training Set Labels Array: {y_train.shape}\");\n",
    "print(f\"Dimentionality of Training Set Labels Array: {y_train.ndim}\");\n",
    "\n",
    "print();\n",
    "\n",
    "print(f\"Shape of Test Set SamplesArray: {X_test.shape}\");\n",
    "print(f\"Dimentionality of Test Set Samples Array: {X_test.ndim}\");\n",
    "print();\n",
    "print(f\"Shape of Test Set Labels Array: {y_test.shape}\");\n",
    "print(f\"Dimentionality of Test Set Labels Array: {y_test.ndim}\");"
   ]
  },
  {
   "cell_type": "markdown",
   "id": "e56636f3",
   "metadata": {},
   "source": [
    "# Multi-Layer Perceptron"
   ]
  },
  {
   "cell_type": "code",
   "execution_count": null,
   "id": "39e5851c",
   "metadata": {},
   "outputs": [],
   "source": []
  }
 ],
 "metadata": {
  "kernelspec": {
   "display_name": "Python 3",
   "language": "python",
   "name": "python3"
  },
  "language_info": {
   "codemirror_mode": {
    "name": "ipython",
    "version": 3
   },
   "file_extension": ".py",
   "mimetype": "text/x-python",
   "name": "python",
   "nbconvert_exporter": "python",
   "pygments_lexer": "ipython3",
   "version": "3.10.7"
  }
 },
 "nbformat": 4,
 "nbformat_minor": 5
}
